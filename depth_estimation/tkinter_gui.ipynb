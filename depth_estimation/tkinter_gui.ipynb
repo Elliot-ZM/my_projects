{
 "cells": [
  {
   "cell_type": "code",
   "execution_count": 5,
   "metadata": {
    "ExecuteTime": {
     "end_time": "2020-07-04T19:06:21.948773Z",
     "start_time": "2020-07-04T19:06:21.946481Z"
    },
    "run_control": {
     "marked": true
    }
   },
   "outputs": [],
   "source": [
    "import tkinter as tk\n",
    "import cv2\n",
    "from PIL import Image, ImageTk\n",
    "import os\n",
    "import numpy as np\n",
    "from skimage import io\n",
    "import matplotlib.pyplot as plt\n",
    "import time"
   ]
  },
  {
   "cell_type": "code",
   "execution_count": 20,
   "metadata": {
    "ExecuteTime": {
     "end_time": "2020-07-04T19:20:45.014729Z",
     "start_time": "2020-07-04T19:20:45.008803Z"
    },
    "run_control": {
     "marked": true
    }
   },
   "outputs": [],
   "source": [
    "class MainWindow:\n",
    "    def __init__(self, video_source= 0, window_title = 'Depth Estimation',info = None):\n",
    "        self.window = tk.Tk()\n",
    "        self.window.title(window_title)\n",
    "        self.video_source = video_source\n",
    "        \n",
    "        \n",
    "        # open video source\n",
    "        self.vid = MyVideoCapture(video_source)\n",
    "        \n",
    "        # Create video canvas\n",
    "        self.canvas = tk.Canvas(self.window, width = self.vid.width, height = self.vid.height)\n",
    "        self.canvas.pack()\n",
    "        \n",
    "        # button to take snapshot\n",
    "        self.btn_snapshot = tk.Button(self.window, text= 'Snapshot', width = 50, command = self.snapshot)\n",
    "        self.btn_snapshot.pack(anchor=tk.CENTER, expand = True)\n",
    "        \n",
    "        #loop video\n",
    "        self.delay = 1\n",
    "        self.update()\n",
    "        self.window.mainloop()\n",
    "    \n",
    "    def update(self):\n",
    "        ret, frame = self.vid.get_frame()\n",
    "        if ret:\n",
    "            self.photo = ImageTk.PhotoImage(image = Image.fromarray(frame))\n",
    "            self.canvas.create_image(0, 0, image = self.photo, anchor = tk.NW)\n",
    "            \n",
    "        self.window.after(self.delay, self.update)\n",
    "    \n",
    "    def snapshot(self):\n",
    "        ret, frame = self.vid.get_frame()\n",
    "        if ret:\n",
    "            fname = 'results/snapshots/' + os.path.basename(self.video_source)[:-4] + '_{}.png'.format(time.strftime('%d-%H:%M:%S'))\n",
    "            io.imsave(fname , frame)\n",
    "        "
   ]
  },
  {
   "cell_type": "code",
   "execution_count": 21,
   "metadata": {
    "ExecuteTime": {
     "end_time": "2020-07-04T19:20:45.786901Z",
     "start_time": "2020-07-04T19:20:45.784126Z"
    }
   },
   "outputs": [
    {
     "data": {
      "text/plain": [
       "'image 05-01:50:45'"
      ]
     },
     "execution_count": 21,
     "metadata": {},
     "output_type": "execute_result"
    }
   ],
   "source": [
    "'image {}'.format(time.strftime('%d-%H:%M:%S'))"
   ]
  },
  {
   "cell_type": "code",
   "execution_count": 22,
   "metadata": {
    "ExecuteTime": {
     "end_time": "2020-07-04T19:20:46.343017Z",
     "start_time": "2020-07-04T19:20:46.338814Z"
    },
    "run_control": {
     "marked": true
    }
   },
   "outputs": [],
   "source": [
    "class MyVideoCapture:\n",
    "    def __init__(self, video_source = 0):\n",
    "        self.vid = cv2.VideoCapture(video_source)\n",
    "        assert self.vid.isOpened() , 'Unable to open video source'\n",
    "        self.width = self.vid.get(cv2.CAP_PROP_FRAME_WIDTH)\n",
    "        self.height = self.vid.get(cv2.CAP_PROP_FRAME_HEIGHT)\n",
    "    \n",
    "    def get_frame(self):\n",
    "        if self.vid.isOpened():\n",
    "            ret, frame = self.vid.read()\n",
    "            if ret:\n",
    "                return (ret, cv2.cvtColor(frame, cv2.COLOR_BGR2RGB))\n",
    "            else:\n",
    "                return (ret, None)\n",
    "        else:\n",
    "            return (ret, None)\n",
    "        \n",
    "    def __del__(self):\n",
    "        if self.vid.is_Opened():\n",
    "            self.vid.release()\n",
    "        self.window.mainloop()\n",
    "            "
   ]
  },
  {
   "cell_type": "code",
   "execution_count": 24,
   "metadata": {
    "ExecuteTime": {
     "end_time": "2020-07-05T01:56:58.862229Z",
     "start_time": "2020-07-05T01:56:35.343493Z"
    },
    "run_control": {
     "marked": false
    }
   },
   "outputs": [
    {
     "data": {
      "text/plain": [
       "<__main__.MainWindow at 0x7f25401dab50>"
      ]
     },
     "execution_count": 24,
     "metadata": {},
     "output_type": "execute_result"
    }
   ],
   "source": [
    "video_file = '/mnt/520ED4640ED44321/ZMH/datasets/depth_dataset/Videos_from_Datasets/rs_videos_v2/higuchi3_color.avi'\n",
    "\n",
    "MainWindow(video_file)"
   ]
  },
  {
   "cell_type": "code",
   "execution_count": null,
   "metadata": {
    "ExecuteTime": {
     "end_time": "2020-07-04T18:58:08.953761Z",
     "start_time": "2020-07-04T18:58:08.948573Z"
    }
   },
   "outputs": [],
   "source": []
  },
  {
   "cell_type": "code",
   "execution_count": null,
   "metadata": {},
   "outputs": [],
   "source": []
  },
  {
   "cell_type": "code",
   "execution_count": null,
   "metadata": {},
   "outputs": [],
   "source": []
  },
  {
   "cell_type": "code",
   "execution_count": null,
   "metadata": {},
   "outputs": [],
   "source": []
  },
  {
   "cell_type": "code",
   "execution_count": null,
   "metadata": {},
   "outputs": [],
   "source": []
  },
  {
   "cell_type": "code",
   "execution_count": null,
   "metadata": {},
   "outputs": [],
   "source": []
  },
  {
   "cell_type": "code",
   "execution_count": null,
   "metadata": {},
   "outputs": [],
   "source": []
  },
  {
   "cell_type": "code",
   "execution_count": null,
   "metadata": {},
   "outputs": [],
   "source": []
  },
  {
   "cell_type": "code",
   "execution_count": null,
   "metadata": {},
   "outputs": [],
   "source": []
  },
  {
   "cell_type": "code",
   "execution_count": null,
   "metadata": {},
   "outputs": [],
   "source": []
  },
  {
   "cell_type": "code",
   "execution_count": null,
   "metadata": {},
   "outputs": [],
   "source": []
  },
  {
   "cell_type": "code",
   "execution_count": null,
   "metadata": {},
   "outputs": [],
   "source": []
  },
  {
   "cell_type": "code",
   "execution_count": null,
   "metadata": {},
   "outputs": [],
   "source": []
  },
  {
   "cell_type": "code",
   "execution_count": null,
   "metadata": {},
   "outputs": [],
   "source": []
  },
  {
   "cell_type": "code",
   "execution_count": null,
   "metadata": {},
   "outputs": [],
   "source": []
  },
  {
   "cell_type": "code",
   "execution_count": null,
   "metadata": {},
   "outputs": [],
   "source": []
  },
  {
   "cell_type": "code",
   "execution_count": null,
   "metadata": {},
   "outputs": [],
   "source": []
  },
  {
   "cell_type": "code",
   "execution_count": null,
   "metadata": {},
   "outputs": [],
   "source": []
  }
 ],
 "metadata": {
  "kernelspec": {
   "display_name": "Python 3",
   "language": "python",
   "name": "python3"
  },
  "language_info": {
   "codemirror_mode": {
    "name": "ipython",
    "version": 3
   },
   "file_extension": ".py",
   "mimetype": "text/x-python",
   "name": "python",
   "nbconvert_exporter": "python",
   "pygments_lexer": "ipython3",
   "version": "3.7.6"
  },
  "toc": {
   "base_numbering": 1,
   "nav_menu": {},
   "number_sections": true,
   "sideBar": true,
   "skip_h1_title": false,
   "title_cell": "Table of Contents",
   "title_sidebar": "Contents",
   "toc_cell": false,
   "toc_position": {},
   "toc_section_display": true,
   "toc_window_display": false
  },
  "varInspector": {
   "cols": {
    "lenName": 16,
    "lenType": 16,
    "lenVar": 40
   },
   "kernels_config": {
    "python": {
     "delete_cmd_postfix": "",
     "delete_cmd_prefix": "del ",
     "library": "var_list.py",
     "varRefreshCmd": "print(var_dic_list())"
    },
    "r": {
     "delete_cmd_postfix": ") ",
     "delete_cmd_prefix": "rm(",
     "library": "var_list.r",
     "varRefreshCmd": "cat(var_dic_list()) "
    }
   },
   "types_to_exclude": [
    "module",
    "function",
    "builtin_function_or_method",
    "instance",
    "_Feature"
   ],
   "window_display": false
  }
 },
 "nbformat": 4,
 "nbformat_minor": 4
}
