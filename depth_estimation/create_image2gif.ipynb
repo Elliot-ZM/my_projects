{
 "cells": [
  {
   "cell_type": "code",
   "execution_count": 6,
   "metadata": {},
   "outputs": [],
   "source": [
    "import os\n",
    "import imageio\n",
    "import cv2\n",
    "from pygifsicle import optimize\n",
    "import argparse\n",
    "\n",
    "\n",
    "def make_gif(root, files, size = (621, 200), fps = 1):\n",
    "  \n",
    "    imageio.mimwrite(gifname, images, format = '.gif', fps = fps, duration = 0.4)       \n",
    "#     optimize(gifname)\n",
    "    print('Created Gif {}'.format(gifname))    \n",
    "    "
   ]
  },
  {
   "cell_type": "code",
   "execution_count": 12,
   "metadata": {},
   "outputs": [
    {
     "name": "stdout",
     "output_type": "stream",
     "text": [
      "Created Gif kitti.gif\n"
     ]
    }
   ],
   "source": [
    "\n",
    "gifname = 'kitti.gif'\n",
    "make_gif(root, gifname)"
   ]
  },
  {
   "cell_type": "code",
   "execution_count": 9,
   "metadata": {},
   "outputs": [
    {
     "name": "stdout",
     "output_type": "stream",
     "text": [
      "Created Gif ./diode_new.gif\n"
     ]
    }
   ],
   "source": [
    "import os\n",
    "import glob\n",
    "import cv2\n",
    "import numpy as np\n",
    "from PIL import Image\n",
    "\n",
    "def depth2color(img): \n",
    "    color = cv2.applyColorMap(cv2.convertScaleAbs(img, alpha=0.0355), cv2.COLORMAP_JET)[:,:,::-1]    \n",
    "    return color   \n",
    "\n",
    "def add_mask(depth, validity_mask): \n",
    "    MIN_DEPTH = 0.0\n",
    "    MAX_DEPTH = min(300, np.percentile(depth, 99))\n",
    "    depth = np.clip(depth, MIN_DEPTH, MAX_DEPTH) \n",
    "    depth[ validity_mask== 0] = 0 \n",
    "    return depth\n",
    "\n",
    "def fetch_data(imgs, index, dataset = 'diode'):\n",
    "    if dataset == 'nyu': # nyu\n",
    "           rgb_path = imgs[index]\n",
    "           depth_path = rgb_path.replace('rgb_', 'sync_depth_')[:-4]+'.png'\n",
    "           mask_path = None\n",
    "        \n",
    "    elif dataset == 'realsense': # realsense  \n",
    "        rgb_path = imgs[index]\n",
    "        depth_path = rgb_path[:-4] + '_depth.npy'\n",
    "        mask_path = None\n",
    "    \n",
    "    elif dataset == 'diode' : # diode\n",
    "        rgb_path = imgs[index]\n",
    "        depth_path = rgb_path[:-4] + '_depth.npy'\n",
    "        mask_path = rgb_path[:-4] + '_depth_mask.npy'\n",
    "    elif dataset == 'kitti':\n",
    "        rgb_path = imgs[index]\n",
    "        depth_path = os.path.join('kitti_choice', 'depth', os.path.basename(rgb_path))\n",
    "        mask_path = None\n",
    "    return rgb_path, depth_path, mask_path\n",
    "\n",
    "def resize(image, depth, size):\n",
    "    image = cv2.resize(image, size, interpolation = cv2.INTER_NEAREST)\n",
    "    depth = cv2.resize(depth, size, interpolation = cv2.INTER_NEAREST)\n",
    "    return image, depth\n",
    "\n",
    "def load_data(rgb_path, depth_path, mask_path, dataset = 'diode'):\n",
    "    image = Image.open(rgb_path).convert('RGB')\n",
    "    image = np.array(image, dtype = np.uint8)\n",
    "    \n",
    "    if dataset == 'diode':\n",
    "        depth_gt = np.load(depth_path).squeeze()\n",
    "        depth_mask = np.load(mask_path)\n",
    "        depth_gt = add_mask(depth_gt, depth_mask)\n",
    "        \n",
    "    elif dataset == 'realsense':\n",
    "        depth_gt = (np.load(depth_path) / 1000).astype('float32')\n",
    "        # depth_gt = depth_gt[45:472, 43:608]\n",
    "        depth_gt[depth_gt > 10] = 0\n",
    "        # image = image[45:472, 43:608]\n",
    "  \n",
    "    elif dataset == 'nyu':\n",
    "        depth_gt = Image.open(depth_path)\n",
    "        depth_gt = np.asarray(depth_gt, dtype = np.float32) / 1000\n",
    "        # depth_gt = depth_gt[45:472, 43:608]\n",
    "        # image = image[45:472, 43:608]\n",
    "    elif dataset == 'kitti':\n",
    "        depth_gt = Image.open(depth_path)\n",
    "        depth_gt = np.asarray(depth_gt, dtype = np.float32) / 256\n",
    " \n",
    "    return image, depth_gt\n",
    "\n",
    "def make_video(img_folder, save_name, fps= 15, size = (420, 320) , suffix = '', dataset = 'diode'):\n",
    "    #fetch data\n",
    "    images = [os.path.join(img_folder, img) for img in sorted(os.listdir(img_folder)) if img.endswith((suffix))]\n",
    "    images.sort(key=os.path.getctime)\n",
    "    ## nyu\n",
    "    # images = [img for img in sorted(glob.glob(img_folder + f'**/{suffix}/rgb*', recursive= True))]\n",
    "\n",
    "    # frame = cv2.imread(os.path.join(img_folder, images[0])) \n",
    "    # h, w , c = frame.shape\n",
    "    \n",
    "    if dataset == 'kitti':\n",
    "        out = cv2.VideoWriter(save_name, cv2.VideoWriter_fourcc(*'DIVX'), fps, (size[0], size[1]*2))\n",
    "    else:\n",
    "        out = cv2.VideoWriter(save_name, cv2.VideoWriter_fourcc(*'DIVX'), fps, (size[0]*2, size[1]))\n",
    "        \n",
    "    for index in range(len(images)):\n",
    "        rgb_path, depth_path, mask_path = fetch_data(images, index, dataset= dataset)\n",
    "        image, depth = load_data(rgb_path, depth_path, mask_path, dataset= dataset)\n",
    "        image, depth = resize(image, depth, size = size)\n",
    "        color_map = depth2color(depth*1000)\n",
    "        if dataset == 'kitti':\n",
    "            concat_img = cv2.vconcat([image, color_map])[...,::-1]\n",
    "            out.write(concat_img)\n",
    "        else:\n",
    "            concat_img = cv2.hconcat([image, color_map])[...,::-1]  \n",
    "            out.write(concat_img)\n",
    "    \n",
    "    out.release()\n",
    "    print('Finished {}'.format(save_name))\n",
    "\n",
    "def make_gif(img_folder, save_name, fps = 1 , size = (320, 240), suffix= '', dataset = 'diode'):  \n",
    "    images = [os.path.join(img_folder, img) for img in sorted(os.listdir(img_folder)) if img.endswith((suffix))]\n",
    "    images.sort(key=os.path.getctime)\n",
    "    image_list = []\n",
    "    for index in range(len(images)):\n",
    "        rgb_path, depth_path, mask_path = fetch_data(images, index, dataset= dataset)\n",
    "        image, depth = load_data(rgb_path, depth_path, mask_path, dataset= dataset)\n",
    "        image, depth = resize(image, depth, size = size)\n",
    "        if dataset == 'kitti':\n",
    "            color_map = depth2color(depth*256)\n",
    "            concat_img = cv2.vconcat([image, color_map]) \n",
    "        else:\n",
    "            color_map = depth2color(depth*1000)\n",
    "            concat_img = cv2.hconcat([image, color_map])\n",
    "#         print(concat_img.shape)\n",
    "        image_list.append(concat_img)\n",
    "    \n",
    "    imageio.mimwrite(save_name, image_list, format = '.gif', fps = fps, duration = 0.2)       \n",
    "#     optimize(gifname)\n",
    "    print('Created Gif {}'.format(save_name))\n",
    "    \n",
    "        \n",
    "        \n",
    "def check_video(save_name):\n",
    "    cap = cv2.VideoCapture(save_name)\n",
    "    while True:\n",
    "        ret, frame = cap.read()\n",
    "        if not ret:\n",
    "            cv2.destroyAllWindows()\n",
    "            break\n",
    "            \n",
    "        cv2.imshow('Check_Video', frame)\n",
    "        if cv2.waitKey(30) == 27:\n",
    "            break\n",
    "    cv2.destroyAllWindows()\n",
    "    cap.release()   \n",
    "    \n",
    "if __name__ == '__main__':\n",
    "    \n",
    "    img_folder = 'diode_indoor_choice/'\n",
    "    out_path = './'\n",
    "    dataset = 'diode'\n",
    "    save_name = os.path.join(out_path, f'{dataset}_new.gif')\n",
    "#     make_video(img_folder, save_name, fps= 45, size = (640,480), suffix = '.png', dataset = dataset)    \n",
    "    make_gif(img_folder, save_name, fps= 20, size = (480, 320), suffix = '.png', dataset = dataset)\n",
    "#     check_video(save_name)\n",
    " \n"
   ]
  },
  {
   "cell_type": "code",
   "execution_count": 38,
   "metadata": {},
   "outputs": [
    {
     "data": {
      "image/png": "[encoded data removed]",
      "text/plain": [
       "<Figure size 432x288 with 1 Axes>"
      ]
     },
     "metadata": {
      "needs_background": "light"
     },
     "output_type": "display_data"
    }
   ],
   "source": [
    "import matplotlib.pyplot as plt\n",
    "root = 'kitti_choice/depth/0000000005.png'\n",
    "depth = cv2.imread(root, cv2.IMREAD_ANYDEPTH).astype('float32')\n",
    "color_map = depth2color(depth)[...,::-1]\n",
    "plt.imshow(color_map) ; plt.show()"
   ]
  },
  {
   "cell_type": "code",
   "execution_count": 3,
   "metadata": {},
   "outputs": [
    {
     "name": "stdout",
     "output_type": "stream",
     "text": [
      "create_image2gif.ipynb  \u001b[0m\u001b[01;34mdiode_indoor_choice\u001b[0m/  \u001b[01;35mkitti.gif\u001b[0m    \u001b[01;35mnyu.gif\u001b[0m\r\n",
      "\u001b[01;34mdiode_choice\u001b[0m/           \u001b[01;35mkitti_2.gif\u001b[0m           \u001b[01;35mnyu_2.gif\u001b[0m    \u001b[01;34mrealsense_choice\u001b[0m/\r\n",
      "\u001b[01;35mdiode.gif\u001b[0m               \u001b[01;34mkitti_choice\u001b[0m/         \u001b[01;34mnyu_choice\u001b[0m/  \u001b[01;35mrealsense.gif\u001b[0m\r\n"
     ]
    }
   ],
   "source": [
    "ls"
   ]
  },
  {
   "cell_type": "code",
   "execution_count": 4,
   "metadata": {},
   "outputs": [
    {
     "name": "stdout",
     "output_type": "stream",
     "text": [
      "/home/zmh/hdd/Projects/Group-A/Depth_Map/evaluation_depth_map/my_projects/depth_estimation/videos/gif\r\n"
     ]
    }
   ],
   "source": [
    "!pwd"
   ]
  },
  {
   "cell_type": "code",
   "execution_count": null,
   "metadata": {},
   "outputs": [],
   "source": []
  },
  {
   "cell_type": "code",
   "execution_count": null,
   "metadata": {},
   "outputs": [],
   "source": []
  },
  {
   "cell_type": "code",
   "execution_count": null,
   "metadata": {},
   "outputs": [],
   "source": []
  },
  {
   "cell_type": "code",
   "execution_count": null,
   "metadata": {},
   "outputs": [],
   "source": []
  },
  {
   "cell_type": "code",
   "execution_count": null,
   "metadata": {},
   "outputs": [],
   "source": []
  },
  {
   "cell_type": "code",
   "execution_count": null,
   "metadata": {},
   "outputs": [],
   "source": []
  },
  {
   "cell_type": "code",
   "execution_count": null,
   "metadata": {},
   "outputs": [],
   "source": []
  }
 ],
 "metadata": {
  "kernelspec": {
   "display_name": "Python 3",
   "language": "python",
   "name": "python3"
  },
  "language_info": {
   "codemirror_mode": {
    "name": "ipython",
    "version": 3
   },
   "file_extension": ".py",
   "mimetype": "text/x-python",
   "name": "python",
   "nbconvert_exporter": "python",
   "pygments_lexer": "ipython3",
   "version": "3.6.8"
  },
  "toc": {
   "base_numbering": 1,
   "nav_menu": {},
   "number_sections": true,
   "sideBar": true,
   "skip_h1_title": false,
   "title_cell": "Table of Contents",
   "title_sidebar": "Contents",
   "toc_cell": false,
   "toc_position": {},
   "toc_section_display": true,
   "toc_window_display": false
  },
  "varInspector": {
   "cols": {
    "lenName": 16,
    "lenType": 16,
    "lenVar": 40
   },
   "kernels_config": {
    "python": {
     "delete_cmd_postfix": "",
     "delete_cmd_prefix": "del ",
     "library": "var_list.py",
     "varRefreshCmd": "print(var_dic_list())"
    },
    "r": {
     "delete_cmd_postfix": ") ",
     "delete_cmd_prefix": "rm(",
     "library": "var_list.r",
     "varRefreshCmd": "cat(var_dic_list()) "
    }
   },
   "types_to_exclude": [
    "module",
    "function",
    "builtin_function_or_method",
    "instance",
    "_Feature"
   ],
   "window_display": false
  }
 },
 "nbformat": 4,
 "nbformat_minor": 4
}
