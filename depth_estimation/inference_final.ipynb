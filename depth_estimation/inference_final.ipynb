{
 "cells": [
  {
   "cell_type": "code",
   "execution_count": null,
   "metadata": {},
   "outputs": [],
   "source": [
    "  silog, abs_rel,   log10,     rms,  sq_rel, log_rms,      d1,      d2,      d3\n",
    " 14.189,   0.157,   0.072,   0.559,   0.113,   0.200,   0.742,   0.958,   0.993\n"
   ]
  },
  {
   "cell_type": "code",
   "execution_count": 46,
   "metadata": {
    "run_control": {
     "marked": true
    }
   },
   "outputs": [],
   "source": [
    "import cv2\n",
    "from PIL import Image\n",
    "import os\n",
    "import sys\n",
    "import numpy as np\n",
    "import matplotlib.pyplot as plt\n",
    "import torch\n",
    "from torch.autograd import Variable\n",
    "from torchvision import transforms \n",
    "from bts import *\n",
    "import utils\n",
    "from depth_estimation import DepthEstimation"
   ]
  },
  {
   "cell_type": "code",
   "execution_count": 75,
   "metadata": {
    "run_control": {
     "marked": true
    }
   },
   "outputs": [],
   "source": [
    "def grid_view(files):\n",
    "    rows = len(files)// 6 if len(files) > 6 else 1\n",
    "    _, axes = plt.subplots(rows , 6, figsize = (12, 6))\n",
    "    axes = axes.flatten()\n",
    "    i = 0\n",
    "    images = []\n",
    "    for file, ax in zip(files, axes):\n",
    "        img = cv2.resize(cv2.imread(file), (544, 416))[...,::-1]\n",
    "        ax.imshow(img)\n",
    "        ax.set_title(f'index : {i}')\n",
    "        ax.axis('off')\n",
    "        i += 1\n",
    "        images.append(img)\n",
    "        \n",
    "    plt.show()\n",
    "    return images\n",
    "\n",
    "def user_choice(files):\n",
    "    images = grid_view(files)\n",
    "    idx = int(input('Enter input image index : ')) \n",
    "    image = images[idx]\n",
    "    return id\n",
    "\n",
    "def load_data(file):\n",
    "    if file.endswith('.npy'):\n",
    "        image =  np.load(file)\n",
    "        image = image.squeeze() if image.ndim == 3 else image\n",
    "    else:\n",
    "        img = cv2.imread(file)[...,::-1] # rgb\n",
    "    "
   ]
  },
  {
   "cell_type": "markdown",
   "metadata": {},
   "source": [
    "## arguments"
   ]
  },
  {
   "cell_type": "code",
   "execution_count": 74,
   "metadata": {},
   "outputs": [],
   "source": [
    "class Args:\n",
    "    model_name = 'bts_resnet50'\n",
    "    encoder = 'resnet50_bts'\n",
    "    model_path = 'model_files/combined_model/combined_model_46620'\n",
    "    dataset = 'realsense'\n",
    "    bts_size = 512\n",
    "    width = 544\n",
    "    height = 416\n",
    "args=Args()"
   ]
  },
  {
   "cell_type": "code",
   "execution_count": 69,
   "metadata": {
    "scrolled": true
   },
   "outputs": [
    {
     "data": {
      "text/plain": [
       "20"
      ]
     },
     "execution_count": 69,
     "metadata": {},
     "output_type": "execute_result"
    }
   ],
   "source": [
    "path = 'test_images/realsense'\n",
    "files = [os.path.join(path, file) for file in sorted(os.listdir(path)) if file.endswith('.png', '.jpg', '.jpeg')]\n",
    "idx = user_choice(files)\n",
    "\n",
    "img_path = files[idx]\n",
    "depth_path = img_path[:-4]\n",
    "\n",
    "\n"
   ]
  },
  {
   "cell_type": "markdown",
   "metadata": {},
   "source": [
    "## Predict  On Image"
   ]
  },
  {
   "cell_type": "code",
   "execution_count": null,
   "metadata": {},
   "outputs": [],
   "source": [
    "\n",
    "\n",
    "\n",
    "\n",
    "\n",
    "\n",
    "\n"
   ]
  }
 ],
 "metadata": {
  "kernelspec": {
   "display_name": "Python 3",
   "language": "python",
   "name": "python3"
  },
  "language_info": {
   "codemirror_mode": {
    "name": "ipython",
    "version": 3
   },
   "file_extension": ".py",
   "mimetype": "text/x-python",
   "name": "python",
   "nbconvert_exporter": "python",
   "pygments_lexer": "ipython3",
   "version": "3.6.10"
  },
  "toc": {
   "base_numbering": 1,
   "nav_menu": {},
   "number_sections": true,
   "sideBar": true,
   "skip_h1_title": false,
   "title_cell": "Table of Contents",
   "title_sidebar": "Contents",
   "toc_cell": false,
   "toc_position": {},
   "toc_section_display": true,
   "toc_window_display": false
  },
  "varInspector": {
   "cols": {
    "lenName": 16,
    "lenType": 16,
    "lenVar": 40
   },
   "kernels_config": {
    "python": {
     "delete_cmd_postfix": "",
     "delete_cmd_prefix": "del ",
     "library": "var_list.py",
     "varRefreshCmd": "print(var_dic_list())"
    },
    "r": {
     "delete_cmd_postfix": ") ",
     "delete_cmd_prefix": "rm(",
     "library": "var_list.r",
     "varRefreshCmd": "cat(var_dic_list()) "
    }
   },
   "types_to_exclude": [
    "module",
    "function",
    "builtin_function_or_method",
    "instance",
    "_Feature"
   ],
   "window_display": false
  }
 },
 "nbformat": 4,
 "nbformat_minor": 4
}
